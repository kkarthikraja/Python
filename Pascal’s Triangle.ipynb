{
 "cells": [
  {
   "cell_type": "code",
   "execution_count": 1,
   "id": "816b7683",
   "metadata": {},
   "outputs": [
    {
     "name": "stdout",
     "output_type": "stream",
     "text": [
      "      1 \n",
      "     1 1 \n",
      "    1 2 1 \n",
      "   1 3 3 1 \n",
      "  1 4 6 4 1 \n"
     ]
    }
   ],
   "source": [
    "'''\n",
    "Pascal's Triangle\n",
    "-------------------------------------------------------------\n",
    "Number of combinations via \"n choose k\" or nCk = n! / [k! * (n-k)!]\n",
    "'''\n",
    "\n",
    "\n",
    "from math import factorial\n",
    "\n",
    "\n",
    "def pascal_triangle(n):\n",
    "   for i in range(n):\n",
    "       for j in range(n-i+1):\n",
    "           print(end=' ')\n",
    "\n",
    "       for j in range(i+1):\n",
    "          \n",
    "           print(factorial(i)//(factorial(j)*factorial(i-j)), end=' ')\n",
    "\n",
    "       print()\n",
    "\n",
    "\n",
    "if __name__ == '__main__':\n",
    "   pascal_triangle(5)"
   ]
  }
 ],
 "metadata": {
  "kernelspec": {
   "display_name": "Python 3 (ipykernel)",
   "language": "python",
   "name": "python3"
  },
  "language_info": {
   "codemirror_mode": {
    "name": "ipython",
    "version": 3
   },
   "file_extension": ".py",
   "mimetype": "text/x-python",
   "name": "python",
   "nbconvert_exporter": "python",
   "pygments_lexer": "ipython3",
   "version": "3.9.12"
  }
 },
 "nbformat": 4,
 "nbformat_minor": 5
}
