{
 "cells": [
  {
   "cell_type": "code",
   "execution_count": null,
   "id": "d54dc64d",
   "metadata": {},
   "outputs": [],
   "source": [
    "'''\n",
    "Birthday Email Sender\n",
    "-------------------------------------------------------------\n",
    "pip install pandas openpyxl\n",
    "excel file cols:\n",
    "Name, Email, Birthday (MM/DD/YYYY), Last Sent (YYYY)\n",
    "'''\n",
    "\n",
    "\n",
    "import pandas as pd\n",
    "from datetime import datetime\n",
    "import smtplib\n",
    "from email.message import EmailMessage\n",
    "\n",
    "\n",
    "def send_email(recipient, subject, msg):\n",
    "   GMAIL_ID = 'email_here'\n",
    "   GMAIL_PWD = 'password_here'\n",
    "\n",
    "   email = EmailMessage()\n",
    "   email['Subject'] = subject\n",
    "   email['From'] = GMAIL_ID\n",
    "   email['To'] = recipient\n",
    "   email.set_content(msg)\n",
    "\n",
    "   with smtplib.SMTP_SSL('smtp.gmail.com', 465) as gmail_obj:\n",
    "       gmail_obj.ehlo()\n",
    "       gmail_obj.login(GMAIL_ID, GMAIL_PWD)\n",
    "       gmail_obj.send_message(email)\n",
    "   print('Email sent to ' + str(recipient) + ' with Subject: \\''\n",
    "         + str(subject) + '\\' and Message: \\'' + str(msg) + '\\'')\n",
    "\n",
    "\n",
    "def send_bday_emails(bday_file):\n",
    "   bdays_df = pd.read_excel(bday_file)\n",
    "   today = datetime.now().strftime('%m-%d')\n",
    "   year_now = datetime.now().strftime('%Y')\n",
    "   sent_index = []\n",
    "\n",
    "   for idx, item in bdays_df.iterrows():\n",
    "       bday = item['Birthday'].to_pydatetime().strftime('%m-%d')\n",
    "       if (today == bday) and year_now not in str(item['Last Sent']):\n",
    "           msg = 'Happy Birthday ' + str(item['Name'] + '!!')\n",
    "           send_email(item['Email'], 'Happy Birthday', msg)\n",
    "           sent_index.append(idx)\n",
    "\n",
    "   for idx in sent_index:\n",
    "       bdays_df.loc[bdays_df.index[idx], 'Last Sent'] = str(year_now)\n",
    "\n",
    "   bdays_df.to_excel(bday_file, index=False)\n",
    "\n",
    "\n",
    "if __name__ == '__main__':\n",
    "   send_bday_emails(bday_file='your_bdays_list.xlsx')"
   ]
  }
 ],
 "metadata": {
  "kernelspec": {
   "display_name": "Python 3 (ipykernel)",
   "language": "python",
   "name": "python3"
  },
  "language_info": {
   "codemirror_mode": {
    "name": "ipython",
    "version": 3
   },
   "file_extension": ".py",
   "mimetype": "text/x-python",
   "name": "python",
   "nbconvert_exporter": "python",
   "pygments_lexer": "ipython3",
   "version": "3.9.12"
  }
 },
 "nbformat": 4,
 "nbformat_minor": 5
}
